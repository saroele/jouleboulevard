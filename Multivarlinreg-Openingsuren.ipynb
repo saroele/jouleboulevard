{
 "cells": [
  {
   "cell_type": "markdown",
   "metadata": {},
   "source": [
    "# Multi-variable linear regression\n",
    "\n",
    "The multivariable linear regression analysis is used to create a model of a single variable, typically an energy consumption. We call this the *dependent* variable.  The model is constructed as a linear combination of *explanatory* variables, like weather measurements or occupation. More information can be found on <a href=\"https://en.wikipedia.org/wiki/Linear_regression\" target=\"_blank\">wikipedia</a>.\n",
    "\n",
    "\n",
    "The model is static.  This means that the data set should not contain dynamic effects.  For buildings, dynamic effects are mostly neglegible on a weekly basis unless the building has a very high thermal inertia.\n",
    "\n",
    "Typical use of this analysis is to create a model of eg. the gas consumption of a building, and then use this model to detect and quantify changes in the gas consumption.  For example, the savings resulting from a new gas boiler can be computed as the difference between the consumption predicted by the model and the actual consumption. \n"
   ]
  },
  {
   "cell_type": "markdown",
   "metadata": {},
   "source": [
    "### Imports and loading data"
   ]
  },
  {
   "cell_type": "code",
   "execution_count": null,
   "metadata": {},
   "outputs": [],
   "source": [
    "import opengrid as og\n",
    "from opengrid.library import plotting as og_plot\n",
    "import pandas as pd\n",
    "from joule import meta, filter_meta, remove_outliers"
   ]
  },
  {
   "cell_type": "code",
   "execution_count": null,
   "metadata": {},
   "outputs": [],
   "source": [
    "plt = og.plot_style()"
   ]
  },
  {
   "cell_type": "code",
   "execution_count": null,
   "metadata": {},
   "outputs": [],
   "source": [
    "# load weather\n",
    "dfw = pd.read_pickle('weather_leuven_daily.pkl')\n",
    "dfw = dfw.filter(items=['cloudCover', 'dewPoint', 'humidity', 'precipIntensity', 'windSpeed', 'temperature'])\n",
    "for col in dfw:\n",
    "    try:\n",
    "        dfw[col] = dfw[col].apply(float)\n",
    "    except:\n",
    "        dfw.drop(columns=[col], inplace=True)"
   ]
  },
  {
   "cell_type": "markdown",
   "metadata": {},
   "source": [
    "### Compute degree-days\n",
    "\n",
    "First we compute heating degree-days for different base temperatures. More information on the computation of degree-days can be found in [this demo](https://opengridcc.github.io/analysis/degree-days)."
   ]
  },
  {
   "cell_type": "code",
   "execution_count": null,
   "metadata": {},
   "outputs": [],
   "source": [
    "# resample weather data to daily values and compute degree-days\n",
    "dfw = dfw.resample('D').mean()\n",
    "dfw_HDD = og.library.weather.compute_degree_days(ts=dfw['temperature'],\n",
    "                                                  heating_base_temperatures=range(4, 18, 2),\n",
    "                                                  cooling_base_temperatures=range(12, 26, 2)).bfill()"
   ]
  },
  {
   "cell_type": "markdown",
   "metadata": {},
   "source": [
    "# Create a monthly and weekly models for the gas, electricity and water consumption "
   ]
  },
  {
   "cell_type": "code",
   "execution_count": null,
   "metadata": {
    "scrolled": false
   },
   "outputs": [],
   "source": [
    "for building in meta['RecordNumber'].unique()[:]:\n",
    "    record_name = filter_meta(RecordNumber=building)['RecordName'].iloc[0]\n",
    "    print('\\nResults for {}'.format(record_name))\n",
    "    print(100*'*')\n",
    "    for utility in ['Electricity', 'NaturalGas', 'Water']:\n",
    "        analysis = '{} - {}'.format(utility, record_name)\n",
    "        try:\n",
    "            ts = pd.read_pickle('data/{}_{}.pkl'.format(utility, building)).sum(axis=1)*4\n",
    "            #ts = ts[ts.index.year==2017]\n",
    "            ts.name = analysis\n",
    "        except:\n",
    "            print('Cannot load {}'.format(building))\n",
    "        else:\n",
    "            if ts.empty:\n",
    "                print('No Data for {}'.format(analysis))\n",
    "                continue\n",
    "\n",
    "            ts_day = ts.resample('D').sum()/1000. # kWh/day\n",
    "            # remove days with incomplete data\n",
    "            ts_day = ts_day[ts_day.diff() > ts_day.mean()/1e6]\n",
    "            ts_day = remove_outliers(ts_day)\n",
    "            df_day = pd.concat([ts_day, dfw, dfw_HDD], axis=1)\n",
    "            df_day = df_day.dropna().loc['2017-01-01':]\n",
    "            df_month = df_day.resample('MS').sum()\n",
    "            df_month = df_month.reindex(df_day.resample('MS').mean().index)\n",
    "            df_month_2017 = df_month.loc['2017-01-01':'2017-12-31']\n",
    "            df_month_2018 = df_month.loc['2018-01-01':'2018-12-31']\n",
    "            df_week = df_day.resample('W').sum()\n",
    "            df_week = df_week.reindex(df_day.resample('W').mean().index)\n",
    "            df_week_2017 = df_week.loc['2017-01-01':'2017-12-31']\n",
    "            df_week_2018 = df_week.loc['2018-01-01':'2018-12-31']\n",
    "\n",
    "\n",
    "            if df_day.empty:\n",
    "                print('No data after cleaning for {}'.format(analysis))\n",
    "                continue\n",
    "            \n",
    "            plt.figure()\n",
    "            plt.plot(df_day[analysis].index, df_day[analysis], marker='o')\n",
    "            plt.show()\n",
    "\n",
    "            # create the MONTHLY model\n",
    "            mvlr = og.MultiVarLinReg(df_month_2017, y=analysis)\n",
    "            mvlr.do_analysis()\n",
    "\n",
    "            print(mvlr.fit.summary())\n",
    "            df_predicted_month = mvlr._predict(mvlr.fit, df_month)\n",
    "            mvlr.plot(df=df_predicted_month)\n",
    "            plt.show()\n",
    "            df_predicted_month['diff'] = (df_predicted_month[analysis] - df_predicted_month['predicted'])\n",
    "            df_predicted_month['cumdiff'] = df_predicted_month['diff'].cumsum()\n",
    "            plt.figure()\n",
    "            plt.plot(df_predicted_month['cumdiff'].index, df_predicted_month['cumdiff'], marker='o')\n",
    "            plt.title('Cumulative difference between model and measurement (negative=savings)')\n",
    "            plt.show()\n",
    "\n",
    "            # create the WEEKLY model\n",
    "            mvlr = og.MultiVarLinReg(df_week_2017, y=analysis)\n",
    "            mvlr.do_analysis()\n",
    "\n",
    "            print(mvlr.fit.summary())\n",
    "            df_predicted_week = mvlr._predict(mvlr.fit, df_week)\n",
    "            mvlr.plot(df=df_predicted_week)\n",
    "            plt.show()\n",
    "            df_predicted_week['diff'] = (df_predicted_week[analysis] - df_predicted_week['predicted'])\n",
    "            df_predicted_week['cumdiff'] = df_predicted_week['diff'].cumsum()\n",
    "            plt.figure()\n",
    "            plt.plot(df_predicted_week['cumdiff'].index, df_predicted_week['cumdiff'], marker='o')\n",
    "            plt.title('Cumulative difference between model and measurement (negative=savings)')\n",
    "            plt.show()\n",
    "\n",
    "\n",
    "        "
   ]
  },
  {
   "cell_type": "code",
   "execution_count": null,
   "metadata": {},
   "outputs": [],
   "source": []
  }
 ],
 "metadata": {
  "kernelspec": {
   "display_name": "Python 3",
   "language": "python",
   "name": "python3"
  },
  "language_info": {
   "codemirror_mode": {
    "name": "ipython",
    "version": 3
   },
   "file_extension": ".py",
   "mimetype": "text/x-python",
   "name": "python",
   "nbconvert_exporter": "python",
   "pygments_lexer": "ipython3",
   "version": "3.6.4"
  }
 },
 "nbformat": 4,
 "nbformat_minor": 1
}
