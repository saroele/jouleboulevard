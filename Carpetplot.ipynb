{
 "cells": [
  {
   "cell_type": "code",
   "execution_count": 1,
   "metadata": {},
   "outputs": [],
   "source": [
    "import opengrid as og\n",
    "from opengrid.library import plotting as og_plot\n",
    "import pandas as pd\n",
    "from joule import meta, filter_meta"
   ]
  },
  {
   "cell_type": "code",
   "execution_count": null,
   "metadata": {},
   "outputs": [],
   "source": [
    "plt = og.plot_style()"
   ]
  },
  {
   "cell_type": "code",
   "execution_count": null,
   "metadata": {
    "scrolled": false
   },
   "outputs": [],
   "source": [
    "filters = ['Water', 'NaturalGas', 'Electricity']\n",
    "\n",
    "for filter in filters:\n",
    "    print('-----------------------------------------------------------------------------------------------')\n",
    "    print(filter)\n",
    "    print('-----------------------------------------------------------------------------------------------')\n",
    "    filtered_meta = filter_meta(MeterType=filter)\n",
    "    for building in filtered_meta['RecordNumber'].unique():\n",
    "        ts = pd.read_pickle('data/{}_{}.pkl'.format(filter,building)).sum(axis=1)\n",
    "        if not ts.empty:\n",
    "            vmin = ts.describe(percentiles=[.05, .95])['5%']\n",
    "            vmax = ts.describe(percentiles=[.05, .95])['95%']\n",
    "            \n",
    "            #ax = ts.plot()\n",
    "            #plt.title('{} - {}'.format(filter, filter_meta(RecordNumber=building)['RecordName'].iloc[0]))\n",
    "            #plt.show()\n",
    "\n",
    "            og_plot.carpet(ts, vmin=vmin, vmax=vmax, title='{} - {}'.format(filter, filter_meta(RecordNumber=building)['RecordName'].iloc[0]))\n",
    "            plt.gcf().savefig(\"figures/carpetplot_\" + filter + \"_\" + building + \".png\")\n",
    "            plt.show()"
   ]
  },
  {
   "cell_type": "code",
   "execution_count": 3,
   "metadata": {},
   "outputs": [
    {
     "data": {
      "text/plain": [
       "nan"
      ]
     },
     "execution_count": 3,
     "metadata": {},
     "output_type": "execute_result"
    }
   ],
   "source": [
    "pd.np.nan"
   ]
  },
  {
   "cell_type": "code",
   "execution_count": 4,
   "metadata": {},
   "outputs": [],
   "source": [
    "import yaml"
   ]
  },
  {
   "cell_type": "code",
   "execution_count": null,
   "metadata": {},
   "outputs": [],
   "source": []
  }
 ],
 "metadata": {
  "kernelspec": {
   "display_name": "Python 3",
   "language": "python",
   "name": "python3"
  },
  "language_info": {
   "codemirror_mode": {
    "name": "ipython",
    "version": 3
   },
   "file_extension": ".py",
   "mimetype": "text/x-python",
   "name": "python",
   "nbconvert_exporter": "python",
   "pygments_lexer": "ipython3",
   "version": "3.6.4"
  }
 },
 "nbformat": 4,
 "nbformat_minor": 2
}
