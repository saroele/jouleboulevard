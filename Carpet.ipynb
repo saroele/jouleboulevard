{
 "cells": [
  {
   "cell_type": "markdown",
   "metadata": {},
   "source": [
    "# Carpetplots"
   ]
  },
  {
   "cell_type": "code",
   "execution_count": null,
   "metadata": {},
   "outputs": [],
   "source": [
    "import opengrid as og\n",
    "from opengrid.library import plotting as og_plot\n",
    "import pandas as pd\n",
    "from joule import meta, filter_meta"
   ]
  },
  {
   "cell_type": "code",
   "execution_count": null,
   "metadata": {},
   "outputs": [],
   "source": [
    "plt = og.plot_style()\n",
    "#%matplotlib notebook"
   ]
  },
  {
   "cell_type": "code",
   "execution_count": null,
   "metadata": {},
   "outputs": [],
   "source": [
    "#%matplotlib notebook"
   ]
  },
  {
   "cell_type": "code",
   "execution_count": null,
   "metadata": {
    "scrolled": false
   },
   "outputs": [],
   "source": [
    "for building in meta['RecordNumber'].unique():\n",
    "    ts = pd.read_pickle('data/Electricity_{}.pkl'.format(building)).sum(axis=1)*60\n",
    "    if not ts.empty:\n",
    "        for i in range(1,13):\n",
    "            df_month = ts[ts.index.month == i]\n",
    "            if len(df_month) > 1:\n",
    "                og_plot.carpet(df_month, title=building, )\n",
    "                fig = plt.gcf()\n",
    "                fig.savefig(\"figures/carpet_electricity_month{}_{}.png\".format(i, building))\n",
    "                plt.show()\n",
    "    \n",
    "\n",
    "\n",
    "    "
   ]
  }
 ],
 "metadata": {
  "kernelspec": {
   "display_name": "Python 3",
   "language": "python",
   "name": "python3"
  },
  "language_info": {
   "codemirror_mode": {
    "name": "ipython",
    "version": 3
   },
   "file_extension": ".py",
   "mimetype": "text/x-python",
   "name": "python",
   "nbconvert_exporter": "python",
   "pygments_lexer": "ipython3",
   "version": "3.6.4"
  }
 },
 "nbformat": 4,
 "nbformat_minor": 1
}
