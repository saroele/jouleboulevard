{
 "cells": [
  {
   "cell_type": "markdown",
   "metadata": {},
   "source": [
    "## 0.1 Install Correct version of TMPO\n",
    "\n",
    "You'll need a special version of TMPO\n",
    "\n",
    "Either via the terminal: `sudo pip3 install git+https://github.com/JrtPec/tmpo-py.git@get_data#egg=tmpo`\n",
    "\n",
    "Or in this notebook: `import pip; pip.main(['install', 'git+https://github.com/JrtPec/tmpo-py.git@get_data#egg=tmpo'])`"
   ]
  },
  {
   "cell_type": "code",
   "execution_count": null,
   "metadata": {},
   "outputs": [],
   "source": [
    "# Test\n",
    "import tmpo\n",
    "assert tmpo.__version__ == '0.2.11'"
   ]
  },
  {
   "cell_type": "markdown",
   "metadata": {},
   "source": [
    "## 0.2 Imports"
   ]
  },
  {
   "cell_type": "code",
   "execution_count": null,
   "metadata": {},
   "outputs": [],
   "source": [
    "import pandas as pd\n",
    "from fluksodata import export_data"
   ]
  },
  {
   "cell_type": "markdown",
   "metadata": {},
   "source": [
    "# 1. Load metadata file\n",
    "\n",
    "The output of this step should:\n",
    "* Be a Pandas DataFrame\n",
    "* Contain columns `SensorId` and `Token`, which are the Flukso credentials\n",
    "\n",
    "The dataframe can also contain other columns, that can be used for grouping"
   ]
  },
  {
   "cell_type": "code",
   "execution_count": null,
   "metadata": {},
   "outputs": [],
   "source": [
    "df = pd.read_csv('jouleboulevard_metadata.csv')"
   ]
  },
  {
   "cell_type": "code",
   "execution_count": null,
   "metadata": {},
   "outputs": [],
   "source": [
    "df = df[df.MeterType == 'NaturalGas']"
   ]
  },
  {
   "cell_type": "markdown",
   "metadata": {},
   "source": [
    "# 2. Export settings"
   ]
  },
  {
   "cell_type": "code",
   "execution_count": null,
   "metadata": {},
   "outputs": [],
   "source": [
    "grouper = 'MeterId'\n",
    "    # Column name that you wish to group by. eg. 'MeterType', 'RecordNumber'\n",
    "    # Can also be a list of multiple columns: ['MeterType', 'RecordNumber']\n",
    "    # Can also be None, if you want to put everything together\n",
    "    \n",
    "resolution = '1h'\n",
    "    # eg. 10min, 1h, 5d, ...\n",
    "    # see pandas resample documentation\n",
    "    # default = 15min\n",
    "    \n",
    "data_format = 'multicolumn'\n",
    "    # choose output format: 'multicolumn' or 'normalized'\n",
    "    # default = multicolumn\n",
    "\n",
    "# Start and End time\n",
    "start = pd.Timestamp('20170101', tz='Europe/Brussels')\n",
    "end = pd.Timestamp('20180101', tz='Europe/Brussels')\n",
    "\n",
    "# Output folder\n",
    "path = 'data'\n",
    "\n",
    "file_format = 'pkl' # can be csv or pkl"
   ]
  },
  {
   "cell_type": "markdown",
   "metadata": {},
   "source": [
    "# 3. Run\n",
    "\n",
    "Don't worry about all the warnings!"
   ]
  },
  {
   "cell_type": "code",
   "execution_count": null,
   "metadata": {},
   "outputs": [],
   "source": [
    "export_data(\n",
    "    sensors_tokens=df,\n",
    "    grouper=grouper,\n",
    "    start=start,\n",
    "    end=end,\n",
    "    resolution=resolution,\n",
    "    data_format=data_format,\n",
    "    path=path,\n",
    "    file_format=file_format\n",
    ")"
   ]
  },
  {
   "cell_type": "code",
   "execution_count": null,
   "metadata": {},
   "outputs": [],
   "source": [
    "import tmpo"
   ]
  },
  {
   "cell_type": "code",
   "execution_count": null,
   "metadata": {},
   "outputs": [],
   "source": [
    "session = tmpo.Session()"
   ]
  },
  {
   "cell_type": "code",
   "execution_count": null,
   "metadata": {},
   "outputs": [],
   "source": [
    "l = [session.last_timestamp(sid=sensor) for sensor in df.SensorId.values]"
   ]
  },
  {
   "cell_type": "code",
   "execution_count": null,
   "metadata": {},
   "outputs": [],
   "source": [
    "l = [i for i in l if i is not None]"
   ]
  },
  {
   "cell_type": "code",
   "execution_count": null,
   "metadata": {},
   "outputs": [],
   "source": [
    "df['Updated'] = df.SensorId.map(lambda x: session.last_timestamp(sid=x))"
   ]
  },
  {
   "cell_type": "code",
   "execution_count": null,
   "metadata": {
    "scrolled": false
   },
   "outputs": [],
   "source": [
    "df.sort_values(by='Updated', ascending=False)[['RecordName', 'Updated']].to_excel('jouleboulevard_updated.xlsx')"
   ]
  },
  {
   "cell_type": "code",
   "execution_count": null,
   "metadata": {},
   "outputs": [],
   "source": []
  }
 ],
 "metadata": {
  "kernelspec": {
   "display_name": "Python 3",
   "language": "python",
   "name": "python3"
  },
  "language_info": {
   "codemirror_mode": {
    "name": "ipython",
    "version": 3
   },
   "file_extension": ".py",
   "mimetype": "text/x-python",
   "name": "python",
   "nbconvert_exporter": "python",
   "pygments_lexer": "ipython3",
   "version": "3.6.4"
  }
 },
 "nbformat": 4,
 "nbformat_minor": 2
}
