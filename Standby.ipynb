{
 "cells": [
  {
   "cell_type": "markdown",
   "metadata": {},
   "source": [
    "# Standby consumption analysis\n",
    "\n",
    "OpenGrid has a standby consumption analysis. This analysis will extract the minimum consumption during a specified period of the day. By default, the minimum over the entire day is found, but the method can be tuned to analyse eg. only the night. \n",
    "\n",
    "### Imports and loading data"
   ]
  },
  {
   "cell_type": "code",
   "execution_count": null,
   "metadata": {},
   "outputs": [],
   "source": [
    "import opengrid as og\n",
    "from opengrid.library import plotting as og_plot\n",
    "import pandas as pd\n",
    "from joule import meta, filter_meta"
   ]
  },
  {
   "cell_type": "code",
   "execution_count": null,
   "metadata": {},
   "outputs": [],
   "source": [
    "plt = og.plot_style()\n",
    "#%matplotlib notebook"
   ]
  },
  {
   "cell_type": "code",
   "execution_count": null,
   "metadata": {},
   "outputs": [],
   "source": [
    "#%matplotlib notebook"
   ]
  },
  {
   "cell_type": "markdown",
   "metadata": {},
   "source": [
    "For a correct standby power analysis **we need high-resolution data, eg. minute-values**.  With hourly values we would often overestimate the real standby power as fridges, freezers or other intermittent short loads are included in the hourly consumption measure.  \n",
    "\n",
    "In this demo we use electricity consumption data with 1-minute resolution for a single sensor. First, we load the dataframe and make a quick plot to show the data."
   ]
  },
  {
   "cell_type": "code",
   "execution_count": null,
   "metadata": {
    "scrolled": true
   },
   "outputs": [],
   "source": [
    "for building in meta['RecordNumber'].unique():\n",
    "    ts = pd.read_pickle('data/Electricity_{}.pkl'.format(building)).sum(axis=1)*60\n",
    "    if not ts.empty:\n",
    "        ax = ts.plot()\n",
    "        ax.set_ylabel('W')\n",
    "        plt.title('{} - {}'.format(building, filter_meta(RecordNumber=building)['RecordName'].iloc[0]))\n",
    "        plt.show()\n",
    "        \n",
    "        \n",
    "        standby_all = og.analysis.standby(ts) # returns a pandas Series\n",
    "        fig = plt.plot(standby_all.index, standby_all.values, marker='D', linestyle='-.', label='all day')\n",
    "        plt.title('Daily standby power')\n",
    "        fig[0].axes.set_ylabel('W')\n",
    "        plt.show()\n",
    "        \n",
    "        \n",
    "        share_standby = og.analysis.share_of_standby(ts)\n",
    "        fig1, ax1 = plt.subplots(figsize=(5,5))\n",
    "        ax1.pie([share_standby, 1-share_standby], \n",
    "        explode=(0.1, 0), \n",
    "        labels=['Standby consumption', 'Variable consumption'], \n",
    "        autopct='%1.1f%%',\n",
    "        shadow=True, \n",
    "        startangle=90)\n",
    "        ax1.axis('equal')  # Equal aspect ratio ensures that pie is drawn as a circle.\n",
    "        plt.show()\n"
   ]
  },
  {
   "cell_type": "code",
   "execution_count": null,
   "metadata": {
    "scrolled": false
   },
   "outputs": [],
   "source": [
    "weekly_index = standby_all.resample('W-MON', label='left').index\n",
    "df_boxplot = pd.DataFrame(index=weekly_index,\n",
    "                  columns = meta['RecordNumber'].unique())\n",
    "\n",
    "for building in meta['RecordNumber'].unique():\n",
    "    df_stack = pd.DataFrame(index=weekly_index,\n",
    "                  columns = ['Variable', 'Standby'])\n",
    "    ts = pd.read_pickle('data/Electricity_{}.pkl'.format(building)).sum(axis=1)*60 # in W, minute resolution\n",
    "    \n",
    "    for i in df_boxplot.index:\n",
    "        ts_week = ts.loc[i:i+pd.Timedelta(days=7)]\n",
    "        if not ts_week.empty:\n",
    "            share_of_standby = og.analysis.share_of_standby(ts_week)\n",
    "            df_boxplot.loc[i,building] = share_of_standby\n",
    "            \n",
    "            # Computations for the stacked plot\n",
    "            total = ts_week.sum()/60/1000 # kWh\n",
    "            standby = share_of_standby * total\n",
    "            df_stack.loc[i, 'Variable'] = total - standby\n",
    "            df_stack.loc[i, 'Standby'] = standby\n",
    "    # Plot\n",
    "    if not df_stack.dropna().empty:\n",
    "        df_stack = df_stack.applymap(float)\n",
    "        plt.stackplot(range(1, 1+len(df_stack)), df_stack['Standby'], df_stack['Variable'], labels=['Standby consumption', 'Non-standby consumption'] )\n",
    "        plt.legend()\n",
    "        plt.ylabel('kWh')\n",
    "        plt.title('Total versus standby consumption by week')\n",
    "        fig = plt.gcf()\n",
    "        fig.savefig(\"figures/stacked_consumption_by_week_\" + building + \".png\")\n",
    "        plt.show()\n",
    "        \n",
    "            \n",
    "df_boxplot.index = df_boxplot.index.map(lambda x: x.strftime('%Y-%m-%d'))\n",
    "df_boxplot = df_boxplot.dropna(axis=1)"
   ]
  },
  {
   "cell_type": "code",
   "execution_count": null,
   "metadata": {
    "scrolled": true
   },
   "outputs": [],
   "source": [
    "for col in df.columns:\n",
    "    fig = og_plot.boxplot(df=df, plot_mean=False, plot_ids=[col], ylabel='Share of standby consumption')\n",
    "    fig.savefig(\"figures/boxplot_\" + col + \".png\")"
   ]
  }
 ],
 "metadata": {
  "kernelspec": {
   "display_name": "Python 3",
   "language": "python",
   "name": "python3"
  },
  "language_info": {
   "codemirror_mode": {
    "name": "ipython",
    "version": 3
   },
   "file_extension": ".py",
   "mimetype": "text/x-python",
   "name": "python",
   "nbconvert_exporter": "python",
   "pygments_lexer": "ipython3",
   "version": "3.6.4"
  }
 },
 "nbformat": 4,
 "nbformat_minor": 1
}
