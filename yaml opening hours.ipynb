{
 "cells": [
  {
   "cell_type": "code",
   "execution_count": null,
   "metadata": {},
   "outputs": [],
   "source": [
    "import opengrid as og\n",
    "from opengrid.library import plotting as og_plot\n",
    "from opengrid.library import utils as og_util\n",
    "import pandas as pd\n",
    "from joule import meta, filter_meta\n",
    "\n",
    "import yaml\n",
    "import datetime\n",
    "from workalendar.europe import Belgium"
   ]
  },
  {
   "cell_type": "code",
   "execution_count": null,
   "metadata": {},
   "outputs": [],
   "source": [
    "def get_openinghours(ea_number, ts):\n",
    "    \n",
    "    df = pd.Series(data=False, index=ts.index)\n",
    "    \n",
    "    # Read YAML file\n",
    "    with open(\"data/\" + ea_number + \".yml\", 'r') as stream:\n",
    "        data_loaded = yaml.load(stream)\n",
    "        for day in data_loaded:\n",
    "            for key in day:\n",
    "                hour_list = day[key]\n",
    "                for hours in hour_list:\n",
    "                    df = df | week_schedule(index=ts.index, on_days=[key], on_time=hours[0], off_time=hours[1], closed=[datetime.date(2018, 4, 25)])\n",
    "    \n",
    "    return df"
   ]
  },
  {
   "cell_type": "code",
   "execution_count": null,
   "metadata": {},
   "outputs": [],
   "source": [
    "def week_schedule(index, on_days, on_time=None, off_time=None, exclude_holidays=True, closed=None):\n",
    "    cal = Belgium()\n",
    "    \n",
    "    if on_time is None:\n",
    "        on_time = '9:00'\n",
    "    if off_time is None:\n",
    "        off_time = '17:00'\n",
    "    \n",
    "    if not isinstance(on_time, datetime.time):\n",
    "        on_time = pd.to_datetime(on_time, format='%H:%M').time()\n",
    "    if not isinstance(off_time, datetime.time):\n",
    "        off_time = pd.to_datetime(off_time, format='%H:%M').time()\n",
    "    \n",
    "    times = (index.time >= on_time) & (index.time < off_time) & (index.weekday_name.isin(on_days))\n",
    "    \n",
    "    result = pd.Series(times, index=index)\n",
    "    \n",
    "    holidays = []\n",
    "    years = list(range(index[0].year, index[-1].year + 1))\n",
    "    for y in years:\n",
    "        for d in cal.get_calendar_holidays(y):\n",
    "             holidays.append(d[0])\n",
    "    \n",
    "    if exclude_holidays:\n",
    "        result[result.index.map(lambda x : x.date() in holidays)] = False\n",
    "        \n",
    "    if closed is not None:\n",
    "        if isinstance(closed[0], datetime.date):\n",
    "            result[result.index.map(lambda x : x.date() in closed)] = False\n",
    "        \n",
    "    return result"
   ]
  },
  {
   "cell_type": "code",
   "execution_count": null,
   "metadata": {},
   "outputs": [],
   "source": [
    "df = get_openinghours('EA-14123117', pd.read_pickle('data/Electricity_EA-14123117.pkl').sum(axis=1))"
   ]
  },
  {
   "cell_type": "code",
   "execution_count": null,
   "metadata": {},
   "outputs": [],
   "source": [
    "# carpet\n",
    "plt = og.plot_style()\n",
    "og_plot.carpet(df*1)\n",
    "plt.show()"
   ]
  },
  {
   "cell_type": "code",
   "execution_count": null,
   "metadata": {},
   "outputs": [],
   "source": []
  }
 ],
 "metadata": {
  "kernelspec": {
   "display_name": "Python 3",
   "language": "python",
   "name": "python3"
  },
  "language_info": {
   "codemirror_mode": {
    "name": "ipython",
    "version": 3
   },
   "file_extension": ".py",
   "mimetype": "text/x-python",
   "name": "python",
   "nbconvert_exporter": "python",
   "pygments_lexer": "ipython3",
   "version": "3.6.3"
  }
 },
 "nbformat": 4,
 "nbformat_minor": 2
}
