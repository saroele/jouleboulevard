{
 "cells": [
  {
   "cell_type": "markdown",
   "metadata": {},
   "source": [
    "# Multi-variable linear regression\n",
    "\n",
    "The multivariable linear regression analysis is used to create a model of a single variable, typically an energy consumption. We call this the *dependent* variable.  The model is constructed as a linear combination of *explanatory* variables, like weather measurements or occupation. More information can be found on <a href=\"https://en.wikipedia.org/wiki/Linear_regression\" target=\"_blank\">wikipedia</a>.\n",
    "\n",
    "\n",
    "The model is static.  This means that the data set should not contain dynamic effects.  For buildings, dynamic effects are mostly neglegible on a weekly basis unless the building has a very high thermal inertia.\n",
    "\n",
    "Typical use of this analysis is to create a model of eg. the gas consumption of a building, and then use this model to detect and quantify changes in the gas consumption.  For example, the savings resulting from a new gas boiler can be computed as the difference between the consumption predicted by the model and the actual consumption. \n"
   ]
  },
  {
   "cell_type": "markdown",
   "metadata": {},
   "source": [
    "### Imports and loading data"
   ]
  },
  {
   "cell_type": "code",
   "execution_count": null,
   "metadata": {},
   "outputs": [],
   "source": [
    "import opengrid as og\n",
    "from opengrid.library import plotting as og_plot\n",
    "import pandas as pd\n",
    "from joule import meta, filter_meta, remove_outliers"
   ]
  },
  {
   "cell_type": "code",
   "execution_count": null,
   "metadata": {},
   "outputs": [],
   "source": [
    "plt = og.plot_style()"
   ]
  },
  {
   "cell_type": "code",
   "execution_count": null,
   "metadata": {},
   "outputs": [],
   "source": [
    "# load weather\n",
    "dfw = pd.read_pickle('weather_leuven_daily.pkl')\n",
    "dfw = dfw.filter(items=['cloudCover', 'dewPoint', 'humidity', 'precipIntensity', 'windSpeed', 'temperature'])\n",
    "for col in dfw:\n",
    "    try:\n",
    "        dfw[col] = dfw[col].apply(float)\n",
    "    except:\n",
    "        dfw.drop(columns=[col], inplace=True)"
   ]
  },
  {
   "cell_type": "markdown",
   "metadata": {},
   "source": [
    "### Compute degree-days\n",
    "\n",
    "First we compute heating degree-days for different base temperatures. More information on the computation of degree-days can be found in [this demo](https://opengridcc.github.io/analysis/degree-days)."
   ]
  },
  {
   "cell_type": "code",
   "execution_count": null,
   "metadata": {},
   "outputs": [],
   "source": [
    "# resample weather data to daily values and compute degree-days\n",
    "dfw = dfw.resample('D').mean()\n",
    "dfw_HDD = og.library.weather.compute_degree_days(ts=dfw['temperature'],\n",
    "                                                  heating_base_temperatures=range(8, 18, 2),\n",
    "                                                  cooling_base_temperatures=range(16, 26, 2)).bfill()"
   ]
  },
  {
   "cell_type": "markdown",
   "metadata": {},
   "source": [
    "# Create a monthly and weekly models for the gas consumption "
   ]
  },
  {
   "cell_type": "code",
   "execution_count": null,
   "metadata": {
    "scrolled": true
   },
   "outputs": [],
   "source": [
    "for building in meta['RecordNumber'].unique()[:]:\n",
    "    record_name = filter_meta(RecordNumber=building)['RecordName'].iloc[0]\n",
    "    print('\\nResults for {}\\n'.format(record_name))\n",
    "    try:\n",
    "        ts = pd.read_pickle('data/NaturalGas_{}.pkl'.format(building)).sum(axis=1)*4\n",
    "        ts = ts[ts.index.year==2017]\n",
    "        ts.name = record_name\n",
    "    except:\n",
    "        print('Cannot load {}'.format(building))\n",
    "    else:\n",
    "        if ts.empty:\n",
    "            print('No Data for {}'.format(building))\n",
    "            continue\n",
    "\n",
    "        ts_day = ts.resample('D').sum()/1000. # kWh/day\n",
    "        # remove days with incomplete data\n",
    "        ts_day = ts_day[ts_day.diff() > ts_day.mean()/1e6]\n",
    "        ts_day = remove_outliers(ts_day)\n",
    "        df_day = pd.concat([ts_day, dfw, dfw_HDD], axis=1).loc['2017']\n",
    "        df_day = df_day.dropna()\n",
    "        if df_day.empty:\n",
    "            print('No data after cleaning for {}'.format(building))\n",
    "            continue\n",
    "\n",
    "        df_day[record_name].plot()\n",
    "        plt.show()\n",
    "\n",
    "        # resample to monthly data and plot \n",
    "        df_month = df_day.resample('MS').sum()\n",
    "        # create the model\n",
    "        mvlr = og.MultiVarLinReg(df_month, y=record_name)\n",
    "        mvlr.do_analysis()\n",
    "\n",
    "        print(mvlr.fit.summary())\n",
    "        mvlr.plot()\n",
    "        plt.show()\n",
    "        \n",
    "        # resample to weekly data and plot \n",
    "        df_month = df_day.resample('W').sum()\n",
    "        # create the model\n",
    "        mvlr = og.MultiVarLinReg(df_month, y=record_name)\n",
    "        mvlr.do_analysis()\n",
    "\n",
    "        print(mvlr.fit.summary())\n",
    "        mvlr.plot()\n",
    "        plt.show()\n",
    "\n",
    "        \n",
    "        "
   ]
  },
  {
   "cell_type": "code",
   "execution_count": null,
   "metadata": {},
   "outputs": [],
   "source": []
  }
 ],
 "metadata": {
  "kernelspec": {
   "display_name": "Python 3",
   "language": "python",
   "name": "python3"
  },
  "language_info": {
   "codemirror_mode": {
    "name": "ipython",
    "version": 3
   },
   "file_extension": ".py",
   "mimetype": "text/x-python",
   "name": "python",
   "nbconvert_exporter": "python",
   "pygments_lexer": "ipython3",
   "version": "3.6.4"
  }
 },
 "nbformat": 4,
 "nbformat_minor": 1
}
